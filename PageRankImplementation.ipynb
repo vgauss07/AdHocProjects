{
 "cells": [
  {
   "cell_type": "markdown",
   "source": [
    "## Implementation of the PageRank Algorithm\n",
    "Web Searches are typically facilitated by PageRank Algorithm."
   ],
   "metadata": {
    "collapsed": false
   }
  },
  {
   "cell_type": "markdown",
   "source": [
    "## PageRank of a Webpage, PR(W)\n",
    "\n",
    "Matrix used in page rank calculations\n",
    "$$\n",
    "\\\\ U = dA^T + \\frac{1 - d}{N} \\begin{bmatrix} 1 & ... & 1 \\\\ 1 & ... & 1 \\\\ 1 & ... & 1 \\end{bmatrix}\n",
    "\\\\\n",
    "$$"
   ],
   "metadata": {
    "collapsed": false
   }
  },
  {
   "cell_type": "code",
   "execution_count": 2,
   "outputs": [],
   "source": [
    "import numpy as np"
   ],
   "metadata": {
    "collapsed": false,
    "ExecuteTime": {
     "end_time": "2023-07-17T10:38:56.906241Z",
     "start_time": "2023-07-17T10:38:56.618700Z"
    }
   }
  },
  {
   "cell_type": "code",
   "execution_count": null,
   "outputs": [],
   "source": [
    "\"\"\"\n",
    "Inputs\n",
    "    A - the transition probability matrix\n",
    "    d - damping factor; the probability that a person will click the next link at each step. default value = 0.85.\n",
    "    eps - the error threshold, default = 0.00005\n",
    "    maxIterations - max iterations it can run before stopping.\n",
    "    verbose - if true, the algo prints the progress of PageRank.\n",
    "Output\n",
    "    vNew - the steady state PageRank vector.\n",
    "\"\"\""
   ],
   "metadata": {
    "collapsed": false
   }
  },
  {
   "cell_type": "code",
   "execution_count": 4,
   "outputs": [],
   "source": [
    "def pageRank(A, d, eps, maxIterations, verbose):\n",
    "    \"\"\"\n",
    "\n",
    "    :param A:\n",
    "    :param d:\n",
    "    :param eps:\n",
    "    :param maxIterations:\n",
    "    :param verbose:\n",
    "    :return:\n",
    "    \"\"\"\n",
    "    d = 0.85\n",
    "    eps = 0.0005\n",
    "    verbose = False\n",
    "\n",
    "    # Find the size of the internet\n",
    "    N = A.shape[0]\n",
    "\n",
    "    # initialize the old and new vectors\n",
    "    oldVectors = np.ones([N])\n",
    "    newVectors = np.ones([N]) / N\n",
    "\n",
    "    # counter initialization\n",
    "    i = 0\n",
    "\n",
    "    U = d * A.T + (1 - d) / N\n",
    "\n",
    "    while np.linalg.norm(oldVectors - newVectors) >= eps:\n",
    "        # if verbose is true, print the progress each iteration\n",
    "        if verbose:\n",
    "            print('At iteration', i, 'the error is',\n",
    "                  np.round(np.linalg.norm(oldVectors - newVectors), 3\n",
    "                           ), 'with PageRank', np.round(newVectors, 3))\n",
    "        oldVectors = newVectors\n",
    "\n",
    "        # update pagerank vector\n",
    "        newVectors = np.dot(U, oldVectors)\n",
    "\n",
    "        # counter increment\n",
    "        i += 1\n",
    "\n",
    "    # if convergence takes too long, notify the user\n",
    "        if i == maxIterations:\n",
    "            print('The page algorithm ran for', maxIterations,\n",
    "                  'with error', np.round(np.linalg.norm(oldVectors - newVectors), 3))\n",
    "            # return the PageRank vector\n",
    "            return newVectors, i\n",
    "\n",
    "    # return steady state PageRank vector and iteration number\n",
    "    return newVectors, i"
   ],
   "metadata": {
    "collapsed": false,
    "ExecuteTime": {
     "end_time": "2023-07-17T11:15:01.654251Z",
     "start_time": "2023-07-17T11:15:01.649147Z"
    }
   }
  },
  {
   "cell_type": "code",
   "execution_count": 5,
   "outputs": [],
   "source": [
    "# Transition Probability Matrix\n",
    "A = np.array(\n",
    "    [\n",
    "        [0, 1/4, 1/4, 1/4, 1/4],\n",
    "        [1/2, 0, 0, 1/2, 0],\n",
    "        [1/3, 0, 0, 1/3, 1/3],\n",
    "        [1, 0, 0, 0, 0],\n",
    "        [0, 0, 0, 1, 0]\n",
    "    ]\n",
    ")"
   ],
   "metadata": {
    "collapsed": false,
    "ExecuteTime": {
     "end_time": "2023-07-17T11:17:54.852733Z",
     "start_time": "2023-07-17T11:17:54.829517Z"
    }
   }
  },
  {
   "cell_type": "code",
   "execution_count": 8,
   "outputs": [
    {
     "name": "stdout",
     "output_type": "stream",
     "text": [
      "The page algorithm ran for 11 with error 0.0\n"
     ]
    },
    {
     "data": {
      "text/plain": "(array([0.3565286 , 0.10584025, 0.10584025, 0.29600666, 0.13578424]), 11)"
     },
     "execution_count": 8,
     "metadata": {},
     "output_type": "execute_result"
    }
   ],
   "source": [
    "pageRank(A, 0.85, 0.0005, 11, verbose=False)"
   ],
   "metadata": {
    "collapsed": false,
    "ExecuteTime": {
     "end_time": "2023-07-17T11:27:28.877757Z",
     "start_time": "2023-07-17T11:27:28.863343Z"
    }
   }
  },
  {
   "cell_type": "code",
   "execution_count": null,
   "outputs": [],
   "source": [],
   "metadata": {
    "collapsed": false
   }
  }
 ],
 "metadata": {
  "kernelspec": {
   "display_name": "Python 3",
   "language": "python",
   "name": "python3"
  },
  "language_info": {
   "codemirror_mode": {
    "name": "ipython",
    "version": 2
   },
   "file_extension": ".py",
   "mimetype": "text/x-python",
   "name": "python",
   "nbconvert_exporter": "python",
   "pygments_lexer": "ipython2",
   "version": "2.7.6"
  }
 },
 "nbformat": 4,
 "nbformat_minor": 0
}
