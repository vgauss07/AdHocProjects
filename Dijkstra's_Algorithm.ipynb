{
 "cells": [
  {
   "cell_type": "markdown",
   "source": [
    "## Python Implementation of Dijkstra's Algorithm\n",
    "- For finding the shortest path from the source vertex\n",
    "-  to all other vertices in the graph\n",
    "- Shortest path can be presented in multiple contexts:\n",
    "        - distance, time, cost etc"
   ],
   "metadata": {
    "collapsed": false
   }
  },
  {
   "cell_type": "code",
   "execution_count": 2,
   "outputs": [],
   "source": [
    "import numpy as np"
   ],
   "metadata": {
    "collapsed": false,
    "ExecuteTime": {
     "end_time": "2023-07-07T04:43:27.471311Z",
     "start_time": "2023-07-07T04:43:27.459805Z"
    }
   }
  },
  {
   "cell_type": "code",
   "execution_count": 4,
   "outputs": [],
   "source": [
    "\"\"\"\n",
    "INPUTS\n",
    "W - A weight matrix; a square matrix\n",
    "i - The number of source node\n",
    "\n",
    "OUTPUTS\n",
    "shortestDistances - shortest distances from the source to each Vertex\n",
    "previousVertices - the previous vertex to the destination in shortest path\n",
    "    from the source to a destination\n",
    "\"\"\"\n",
    "def Dijkstra(W, i):\n",
    "    # find the number of vertices\n",
    "    n = W.shape[0]\n",
    "\n",
    "    # initialize the shortest distances to infinity\n",
    "    shortestDistances = np.array([np.inf] * n)\n",
    "\n",
    "    previousVertices = np.array([np.inf] * n)\n",
    "\n",
    "    # initialize the unvisited vertex set to be full\n",
    "    unvisited = np.array([1] * n)\n",
    "\n",
    "    # mark the source as visited\n",
    "    unvisited[i-1] = 0\n",
    "\n",
    "    # initialize distance from the source to the source as 0\n",
    "    shortestDistances[i - 1] = 0\n",
    "\n",
    "    # create loop to find the nearest unvisited vertex\n",
    "    # loop for iteration per vertex until the unvisited set is empty\n",
    "    for _ in range(n):\n",
    "        # find the distances to all unvisited adjacent vertices\n",
    "        # and set others to 0\n",
    "        distances = shortestDistances * unvisited\n",
    "\n",
    "        # find the index of the nearest unvisited vertex\n",
    "        # distance > 0\n",
    "        x = np.argmin(np.ma.masked_where(distances == 0, distances))\n",
    "\n",
    "        unvisited[x] = 0\n",
    "\n",
    "        # Iterating through the vertices\n",
    "        for v in range(n):\n",
    "\n",
    "            oldDistance = shortestDistances[v]\n",
    "            newDistance = shortestDistances[x] + W[v,x]\n",
    "            adj = W[v,x] > 0\n",
    "            unVis = unvisited[v]\n",
    "\n",
    "            # if v and x are connected, v has not been visited\n",
    "\n",
    "            if adj and unVis and oldDistance > newDistance:\n",
    "                shortestDistances[v] = shortestDistances[x] + W[v,x]\n",
    "                previousVertices[v] = x\n",
    "        print(np.array([np.arange(n) + 1, shortestDistances, previousVertices + 1]).T)\n",
    "        return shortestDistances, previousVertices"
   ],
   "metadata": {
    "collapsed": false,
    "ExecuteTime": {
     "end_time": "2023-07-07T16:27:38.288712Z",
     "start_time": "2023-07-07T16:27:38.280585Z"
    }
   }
  },
  {
   "cell_type": "markdown",
   "source": [
    "## Test Shortest Paths with Dijkstra's Algorithm"
   ],
   "metadata": {
    "collapsed": false
   }
  },
  {
   "cell_type": "code",
   "execution_count": 5,
   "outputs": [
    {
     "name": "stdout",
     "output_type": "stream",
     "text": [
      "[[ 1.  0. inf]\n",
      " [ 2.  4.  1.]\n",
      " [ 3.  1.  1.]\n",
      " [ 4. inf inf]\n",
      " [ 5.  2.  1.]\n",
      " [ 6. inf inf]]\n"
     ]
    },
    {
     "data": {
      "text/plain": "(array([ 0.,  4.,  1., inf,  2., inf]), array([inf,  0.,  0., inf,  0., inf]))"
     },
     "execution_count": 5,
     "metadata": {},
     "output_type": "execute_result"
    }
   ],
   "source": [
    "# Create a weight matrix for the network\n",
    "w1 = np.array([[0, 4, 1, 0, 2, 0],\n",
    "               [4, 0, 2, 1, 0, 1],\n",
    "               [1, 2, 0, 1, 1, 0],\n",
    "               [0, 1, 1, 0, 2, 0],\n",
    "               [2, 0, 1, 2, 0, 0],\n",
    "               [0, 1, 0, 0, 0, 0]])\n",
    "\n",
    "Dijkstra(w1, 1)"
   ],
   "metadata": {
    "collapsed": false,
    "ExecuteTime": {
     "end_time": "2023-07-07T16:38:11.032696Z",
     "start_time": "2023-07-07T16:38:10.897398Z"
    }
   }
  },
  {
   "cell_type": "code",
   "execution_count": null,
   "outputs": [],
   "source": [],
   "metadata": {
    "collapsed": false
   }
  }
 ],
 "metadata": {
  "kernelspec": {
   "display_name": "Python 3",
   "language": "python",
   "name": "python3"
  },
  "language_info": {
   "codemirror_mode": {
    "name": "ipython",
    "version": 2
   },
   "file_extension": ".py",
   "mimetype": "text/x-python",
   "name": "python",
   "nbconvert_exporter": "python",
   "pygments_lexer": "ipython2",
   "version": "2.7.6"
  }
 },
 "nbformat": 4,
 "nbformat_minor": 0
}
