{
 "cells": [
  {
   "cell_type": "markdown",
   "source": [
    "## Depth First Search:\n",
    "\n",
    "- Typically Applied for Graph Searches"
   ],
   "metadata": {
    "collapsed": false
   }
  },
  {
   "cell_type": "code",
   "execution_count": 2,
   "outputs": [],
   "source": [
    "def DFS(A, source):\n",
    "    # reduce the source by 1 to avoid off-by-1 errors\n",
    "    source -= 1\n",
    "\n",
    "    # find the number of vertices\n",
    "    nVert = A.shape[0]\n",
    "\n",
    "    # initialize the unvisited vertex set to be full\n",
    "    unVisited = [1] * nVert\n",
    "\n",
    "    # initialize the queue with the source vertex\n",
    "    stack = [source]\n",
    "\n",
    "    # initialize vertex list\n",
    "    vertexList = []\n",
    "\n",
    "    # while the stack is not empty\n",
    "    while stack:\n",
    "        # remove just-visited vertex from the stack\n",
    "        # and store it\n",
    "        v = stack.pop()\n",
    "\n",
    "        # if v is unvisited, add it to our list\n",
    "        # and mark it as visited\n",
    "        if unVisited[v]:\n",
    "            vertexList.append(v)    # save and print the number of the newly visited vertex\n",
    "\n",
    "            # mark the vertex as visited\n",
    "            unVisited[v] = 0\n",
    "\n",
    "        # iterate through the vertices\n",
    "        for u in range(nVert - 1, 0, -1):\n",
    "            # add each unvisited neighbor to the stack\n",
    "            if A[v, u] == 1 and unVisited[u] == 1:\n",
    "                stack.append(u)\n",
    "    return vertexList"
   ],
   "metadata": {
    "collapsed": false,
    "ExecuteTime": {
     "end_time": "2023-07-04T19:02:40.829776Z",
     "start_time": "2023-07-04T19:02:40.825857Z"
    }
   }
  },
  {
   "cell_type": "markdown",
   "source": [
    "## Test the DFS Algorithm"
   ],
   "metadata": {
    "collapsed": false
   }
  },
  {
   "cell_type": "code",
   "execution_count": 3,
   "outputs": [],
   "source": [
    "import numpy as np\n",
    "A = np.array([[0, 1, 0, 0, 1, 0, 0, 0, 0, 0, 0],\n",
    "              [1, 0, 0, 0, 0, 0, 0, 0, 0, 0, 0],\n",
    "              [0, 0, 0, 1, 0, 1, 0, 0, 0, 0, 0],\n",
    "              [0, 0, 1, 0, 1, 1, 0, 0, 0, 0, 0],\n",
    "              [1, 0, 0, 1, 0, 0, 1, 1, 1, 0, 0],\n",
    "              [0, 0, 1, 1, 0, 0, 0, 0, 0, 0, 0],\n",
    "              [0, 0, 0, 0, 1, 0, 0, 1, 0, 1, 0],\n",
    "              [0, 0, 0, 0, 1, 0, 1, 0, 1, 1, 0],\n",
    "              [0, 0, 0, 0, 1, 0, 0, 1, 0, 1, 0],\n",
    "              [0, 0, 0, 0, 0, 0, 1, 1, 1, 0, 0],\n",
    "              [0, 0, 0, 0, 0, 0, 0, 0, 0, 0, 0]])"
   ],
   "metadata": {
    "collapsed": false,
    "ExecuteTime": {
     "end_time": "2023-07-04T19:09:30.851005Z",
     "start_time": "2023-07-04T19:09:30.833200Z"
    }
   }
  },
  {
   "cell_type": "markdown",
   "source": [
    "## Execute DFS Algorithm on matrix A"
   ],
   "metadata": {
    "collapsed": false
   }
  },
  {
   "cell_type": "code",
   "execution_count": 4,
   "outputs": [
    {
     "data": {
      "text/plain": "[1, 2, 5, 4, 3, 6, 7, 8, 9, 10]"
     },
     "execution_count": 4,
     "metadata": {},
     "output_type": "execute_result"
    }
   ],
   "source": [
    "vertexList = DFS(A, 1)\n",
    "\n",
    "# Add 1 to the vertex numbers\n",
    "[x + 1 for x in vertexList]"
   ],
   "metadata": {
    "collapsed": false,
    "ExecuteTime": {
     "end_time": "2023-07-04T19:10:41.355540Z",
     "start_time": "2023-07-04T19:10:41.335808Z"
    }
   }
  },
  {
   "cell_type": "code",
   "execution_count": null,
   "outputs": [],
   "source": [],
   "metadata": {
    "collapsed": false
   }
  }
 ],
 "metadata": {
  "kernelspec": {
   "display_name": "Python 3",
   "language": "python",
   "name": "python3"
  },
  "language_info": {
   "codemirror_mode": {
    "name": "ipython",
    "version": 2
   },
   "file_extension": ".py",
   "mimetype": "text/x-python",
   "name": "python",
   "nbconvert_exporter": "python",
   "pygments_lexer": "ipython2",
   "version": "2.7.6"
  }
 },
 "nbformat": 4,
 "nbformat_minor": 0
}
